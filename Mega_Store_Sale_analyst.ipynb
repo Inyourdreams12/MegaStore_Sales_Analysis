{
  "nbformat": 4,
  "nbformat_minor": 0,
  "metadata": {
    "colab": {
      "provenance": []
    },
    "kernelspec": {
      "name": "python3",
      "display_name": "Python 3"
    },
    "language_info": {
      "name": "python"
    }
  },
  "cells": [
    {
      "cell_type": "code",
      "source": [
        "# Import Libraries\n",
        "\n",
        "import pandas as pd\n",
        "import numpy as np\n",
        "import matplotlib.pyplot as plt\n"
      ],
      "metadata": {
        "id": "cvNJLPpmBler"
      },
      "execution_count": null,
      "outputs": []
    },
    {
      "cell_type": "code",
      "source": [
        "# Import data csv file\n",
        "\n",
        "df = pd.read_csv('/super_market_sale_data_4years.csv')\n",
        "df.sample(10)"
      ],
      "metadata": {
        "colab": {
          "base_uri": "https://localhost:8080/",
          "height": 906
        },
        "id": "RURTyy10Blcd",
        "outputId": "5ad5c1f2-f9dc-4a68-b8bd-3135268cd2f3"
      },
      "execution_count": null,
      "outputs": [
        {
          "output_type": "execute_result",
          "data": {
            "text/plain": [
              "      Row ID        Order ID  Order Date   Ship Date       Ship Mode  \\\n",
              "116      117  CA-2015-115259  25/08/2015  27/08/2015    Second Class   \n",
              "2152    2153  CA-2016-123505  22/11/2016  26/11/2016  Standard Class   \n",
              "6715    6716  CA-2018-107629  14/12/2018  14/12/2018        Same Day   \n",
              "6470    6471  CA-2016-108532  29/08/2016  02/09/2016  Standard Class   \n",
              "124      125  US-2015-152030  26/12/2015  28/12/2015    Second Class   \n",
              "9055    9056  CA-2016-128993  12/09/2016  17/09/2016    Second Class   \n",
              "5206    5207  CA-2016-102016  12/09/2016  18/09/2016  Standard Class   \n",
              "3195    3196  CA-2017-169026  08/08/2017  13/08/2017  Standard Class   \n",
              "1097    1098  CA-2015-159338  25/06/2015  28/06/2015     First Class   \n",
              "8783    8784  CA-2017-116911  15/09/2017  20/09/2017  Standard Class   \n",
              "\n",
              "     Customer ID     Customer Name      Segment        Country         City  \\\n",
              "116     RC-19960        Ryan Crowe     Consumer  United States     Columbus   \n",
              "2152    AR-10540       Andy Reiter     Consumer  United States       Quincy   \n",
              "6715    DB-13060       Dave Brooks     Consumer  United States       Skokie   \n",
              "6470    CC-12100   Chad Cunningham  Home Office  United States      Detroit   \n",
              "124     AD-10180    Alan Dominguez  Home Office  United States      Houston   \n",
              "9055    CC-12670    Craig Carreira     Consumer  United States      Seattle   \n",
              "5206    TM-21010    Tamara Manning     Consumer  United States       Auburn   \n",
              "3195    CM-12655  Corinna Mitchell  Home Office  United States      Jackson   \n",
              "1097    NS-18640      Noel Staavos    Corporate  United States  Los Angeles   \n",
              "8783    JD-16150  Justin Deggeller    Corporate  United States   Twin Falls   \n",
              "\n",
              "              State  Postal Code   Region       Product ID         Category  \\\n",
              "116            Ohio      43229.0     East  OFF-EN-10002504  Office Supplies   \n",
              "2152  Massachusetts       2169.0     East  OFF-PA-10002586  Office Supplies   \n",
              "6715       Illinois      60076.0  Central  OFF-AR-10002987  Office Supplies   \n",
              "6470       Michigan      48234.0  Central  TEC-PH-10001750       Technology   \n",
              "124           Texas      77041.0  Central  FUR-CH-10004063        Furniture   \n",
              "9055     Washington      98103.0     West  TEC-AC-10004209       Technology   \n",
              "5206       New York      13021.0     East  OFF-FA-10000490  Office Supplies   \n",
              "3195    Mississippi      39212.0    South  OFF-FA-10001883  Office Supplies   \n",
              "1097     California      90049.0     West  FUR-TA-10004147        Furniture   \n",
              "8783          Idaho      83301.0     West  FUR-TA-10003473        Furniture   \n",
              "\n",
              "     Sub-Category                                       Product Name     Sales  \n",
              "116     Envelopes  Tyvek  Top-Opening Peel & Seel Envelopes, Plai...   130.464  \n",
              "2152        Paper                                         Xerox 1970    14.940  \n",
              "6715          Art                       Prismacolor Color Pencil Set    95.232  \n",
              "6470       Phones                                  Samsung Rugby III   131.980  \n",
              "124        Chairs            Global Deluxe High-Back Manager's Chair   600.558  \n",
              "9055  Accessories                    Memorex Froggy Flash Drive 4 GB    21.980  \n",
              "5206    Fasteners       OIC Binder Clips, Mini, 1/4\" Capacity, Black     1.240  \n",
              "3195    Fasteners          Alliance Super-Size Bands, Assorted Sizes    23.340  \n",
              "1097       Tables                             Hon 4060 Series Tables   447.840  \n",
              "8783       Tables         Bretford Rectangular Conference Table Tops  1128.390  "
            ],
            "text/html": [
              "\n",
              "  <div id=\"df-edc1c796-0577-4356-8b31-5aeaf805f984\" class=\"colab-df-container\">\n",
              "    <div>\n",
              "<style scoped>\n",
              "    .dataframe tbody tr th:only-of-type {\n",
              "        vertical-align: middle;\n",
              "    }\n",
              "\n",
              "    .dataframe tbody tr th {\n",
              "        vertical-align: top;\n",
              "    }\n",
              "\n",
              "    .dataframe thead th {\n",
              "        text-align: right;\n",
              "    }\n",
              "</style>\n",
              "<table border=\"1\" class=\"dataframe\">\n",
              "  <thead>\n",
              "    <tr style=\"text-align: right;\">\n",
              "      <th></th>\n",
              "      <th>Row ID</th>\n",
              "      <th>Order ID</th>\n",
              "      <th>Order Date</th>\n",
              "      <th>Ship Date</th>\n",
              "      <th>Ship Mode</th>\n",
              "      <th>Customer ID</th>\n",
              "      <th>Customer Name</th>\n",
              "      <th>Segment</th>\n",
              "      <th>Country</th>\n",
              "      <th>City</th>\n",
              "      <th>State</th>\n",
              "      <th>Postal Code</th>\n",
              "      <th>Region</th>\n",
              "      <th>Product ID</th>\n",
              "      <th>Category</th>\n",
              "      <th>Sub-Category</th>\n",
              "      <th>Product Name</th>\n",
              "      <th>Sales</th>\n",
              "    </tr>\n",
              "  </thead>\n",
              "  <tbody>\n",
              "    <tr>\n",
              "      <th>116</th>\n",
              "      <td>117</td>\n",
              "      <td>CA-2015-115259</td>\n",
              "      <td>25/08/2015</td>\n",
              "      <td>27/08/2015</td>\n",
              "      <td>Second Class</td>\n",
              "      <td>RC-19960</td>\n",
              "      <td>Ryan Crowe</td>\n",
              "      <td>Consumer</td>\n",
              "      <td>United States</td>\n",
              "      <td>Columbus</td>\n",
              "      <td>Ohio</td>\n",
              "      <td>43229.0</td>\n",
              "      <td>East</td>\n",
              "      <td>OFF-EN-10002504</td>\n",
              "      <td>Office Supplies</td>\n",
              "      <td>Envelopes</td>\n",
              "      <td>Tyvek  Top-Opening Peel &amp; Seel Envelopes, Plai...</td>\n",
              "      <td>130.464</td>\n",
              "    </tr>\n",
              "    <tr>\n",
              "      <th>2152</th>\n",
              "      <td>2153</td>\n",
              "      <td>CA-2016-123505</td>\n",
              "      <td>22/11/2016</td>\n",
              "      <td>26/11/2016</td>\n",
              "      <td>Standard Class</td>\n",
              "      <td>AR-10540</td>\n",
              "      <td>Andy Reiter</td>\n",
              "      <td>Consumer</td>\n",
              "      <td>United States</td>\n",
              "      <td>Quincy</td>\n",
              "      <td>Massachusetts</td>\n",
              "      <td>2169.0</td>\n",
              "      <td>East</td>\n",
              "      <td>OFF-PA-10002586</td>\n",
              "      <td>Office Supplies</td>\n",
              "      <td>Paper</td>\n",
              "      <td>Xerox 1970</td>\n",
              "      <td>14.940</td>\n",
              "    </tr>\n",
              "    <tr>\n",
              "      <th>6715</th>\n",
              "      <td>6716</td>\n",
              "      <td>CA-2018-107629</td>\n",
              "      <td>14/12/2018</td>\n",
              "      <td>14/12/2018</td>\n",
              "      <td>Same Day</td>\n",
              "      <td>DB-13060</td>\n",
              "      <td>Dave Brooks</td>\n",
              "      <td>Consumer</td>\n",
              "      <td>United States</td>\n",
              "      <td>Skokie</td>\n",
              "      <td>Illinois</td>\n",
              "      <td>60076.0</td>\n",
              "      <td>Central</td>\n",
              "      <td>OFF-AR-10002987</td>\n",
              "      <td>Office Supplies</td>\n",
              "      <td>Art</td>\n",
              "      <td>Prismacolor Color Pencil Set</td>\n",
              "      <td>95.232</td>\n",
              "    </tr>\n",
              "    <tr>\n",
              "      <th>6470</th>\n",
              "      <td>6471</td>\n",
              "      <td>CA-2016-108532</td>\n",
              "      <td>29/08/2016</td>\n",
              "      <td>02/09/2016</td>\n",
              "      <td>Standard Class</td>\n",
              "      <td>CC-12100</td>\n",
              "      <td>Chad Cunningham</td>\n",
              "      <td>Home Office</td>\n",
              "      <td>United States</td>\n",
              "      <td>Detroit</td>\n",
              "      <td>Michigan</td>\n",
              "      <td>48234.0</td>\n",
              "      <td>Central</td>\n",
              "      <td>TEC-PH-10001750</td>\n",
              "      <td>Technology</td>\n",
              "      <td>Phones</td>\n",
              "      <td>Samsung Rugby III</td>\n",
              "      <td>131.980</td>\n",
              "    </tr>\n",
              "    <tr>\n",
              "      <th>124</th>\n",
              "      <td>125</td>\n",
              "      <td>US-2015-152030</td>\n",
              "      <td>26/12/2015</td>\n",
              "      <td>28/12/2015</td>\n",
              "      <td>Second Class</td>\n",
              "      <td>AD-10180</td>\n",
              "      <td>Alan Dominguez</td>\n",
              "      <td>Home Office</td>\n",
              "      <td>United States</td>\n",
              "      <td>Houston</td>\n",
              "      <td>Texas</td>\n",
              "      <td>77041.0</td>\n",
              "      <td>Central</td>\n",
              "      <td>FUR-CH-10004063</td>\n",
              "      <td>Furniture</td>\n",
              "      <td>Chairs</td>\n",
              "      <td>Global Deluxe High-Back Manager's Chair</td>\n",
              "      <td>600.558</td>\n",
              "    </tr>\n",
              "    <tr>\n",
              "      <th>9055</th>\n",
              "      <td>9056</td>\n",
              "      <td>CA-2016-128993</td>\n",
              "      <td>12/09/2016</td>\n",
              "      <td>17/09/2016</td>\n",
              "      <td>Second Class</td>\n",
              "      <td>CC-12670</td>\n",
              "      <td>Craig Carreira</td>\n",
              "      <td>Consumer</td>\n",
              "      <td>United States</td>\n",
              "      <td>Seattle</td>\n",
              "      <td>Washington</td>\n",
              "      <td>98103.0</td>\n",
              "      <td>West</td>\n",
              "      <td>TEC-AC-10004209</td>\n",
              "      <td>Technology</td>\n",
              "      <td>Accessories</td>\n",
              "      <td>Memorex Froggy Flash Drive 4 GB</td>\n",
              "      <td>21.980</td>\n",
              "    </tr>\n",
              "    <tr>\n",
              "      <th>5206</th>\n",
              "      <td>5207</td>\n",
              "      <td>CA-2016-102016</td>\n",
              "      <td>12/09/2016</td>\n",
              "      <td>18/09/2016</td>\n",
              "      <td>Standard Class</td>\n",
              "      <td>TM-21010</td>\n",
              "      <td>Tamara Manning</td>\n",
              "      <td>Consumer</td>\n",
              "      <td>United States</td>\n",
              "      <td>Auburn</td>\n",
              "      <td>New York</td>\n",
              "      <td>13021.0</td>\n",
              "      <td>East</td>\n",
              "      <td>OFF-FA-10000490</td>\n",
              "      <td>Office Supplies</td>\n",
              "      <td>Fasteners</td>\n",
              "      <td>OIC Binder Clips, Mini, 1/4\" Capacity, Black</td>\n",
              "      <td>1.240</td>\n",
              "    </tr>\n",
              "    <tr>\n",
              "      <th>3195</th>\n",
              "      <td>3196</td>\n",
              "      <td>CA-2017-169026</td>\n",
              "      <td>08/08/2017</td>\n",
              "      <td>13/08/2017</td>\n",
              "      <td>Standard Class</td>\n",
              "      <td>CM-12655</td>\n",
              "      <td>Corinna Mitchell</td>\n",
              "      <td>Home Office</td>\n",
              "      <td>United States</td>\n",
              "      <td>Jackson</td>\n",
              "      <td>Mississippi</td>\n",
              "      <td>39212.0</td>\n",
              "      <td>South</td>\n",
              "      <td>OFF-FA-10001883</td>\n",
              "      <td>Office Supplies</td>\n",
              "      <td>Fasteners</td>\n",
              "      <td>Alliance Super-Size Bands, Assorted Sizes</td>\n",
              "      <td>23.340</td>\n",
              "    </tr>\n",
              "    <tr>\n",
              "      <th>1097</th>\n",
              "      <td>1098</td>\n",
              "      <td>CA-2015-159338</td>\n",
              "      <td>25/06/2015</td>\n",
              "      <td>28/06/2015</td>\n",
              "      <td>First Class</td>\n",
              "      <td>NS-18640</td>\n",
              "      <td>Noel Staavos</td>\n",
              "      <td>Corporate</td>\n",
              "      <td>United States</td>\n",
              "      <td>Los Angeles</td>\n",
              "      <td>California</td>\n",
              "      <td>90049.0</td>\n",
              "      <td>West</td>\n",
              "      <td>FUR-TA-10004147</td>\n",
              "      <td>Furniture</td>\n",
              "      <td>Tables</td>\n",
              "      <td>Hon 4060 Series Tables</td>\n",
              "      <td>447.840</td>\n",
              "    </tr>\n",
              "    <tr>\n",
              "      <th>8783</th>\n",
              "      <td>8784</td>\n",
              "      <td>CA-2017-116911</td>\n",
              "      <td>15/09/2017</td>\n",
              "      <td>20/09/2017</td>\n",
              "      <td>Standard Class</td>\n",
              "      <td>JD-16150</td>\n",
              "      <td>Justin Deggeller</td>\n",
              "      <td>Corporate</td>\n",
              "      <td>United States</td>\n",
              "      <td>Twin Falls</td>\n",
              "      <td>Idaho</td>\n",
              "      <td>83301.0</td>\n",
              "      <td>West</td>\n",
              "      <td>FUR-TA-10003473</td>\n",
              "      <td>Furniture</td>\n",
              "      <td>Tables</td>\n",
              "      <td>Bretford Rectangular Conference Table Tops</td>\n",
              "      <td>1128.390</td>\n",
              "    </tr>\n",
              "  </tbody>\n",
              "</table>\n",
              "</div>\n",
              "    <div class=\"colab-df-buttons\">\n",
              "\n",
              "  <div class=\"colab-df-container\">\n",
              "    <button class=\"colab-df-convert\" onclick=\"convertToInteractive('df-edc1c796-0577-4356-8b31-5aeaf805f984')\"\n",
              "            title=\"Convert this dataframe to an interactive table.\"\n",
              "            style=\"display:none;\">\n",
              "\n",
              "  <svg xmlns=\"http://www.w3.org/2000/svg\" height=\"24px\" viewBox=\"0 -960 960 960\">\n",
              "    <path d=\"M120-120v-720h720v720H120Zm60-500h600v-160H180v160Zm220 220h160v-160H400v160Zm0 220h160v-160H400v160ZM180-400h160v-160H180v160Zm440 0h160v-160H620v160ZM180-180h160v-160H180v160Zm440 0h160v-160H620v160Z\"/>\n",
              "  </svg>\n",
              "    </button>\n",
              "\n",
              "  <style>\n",
              "    .colab-df-container {\n",
              "      display:flex;\n",
              "      gap: 12px;\n",
              "    }\n",
              "\n",
              "    .colab-df-convert {\n",
              "      background-color: #E8F0FE;\n",
              "      border: none;\n",
              "      border-radius: 50%;\n",
              "      cursor: pointer;\n",
              "      display: none;\n",
              "      fill: #1967D2;\n",
              "      height: 32px;\n",
              "      padding: 0 0 0 0;\n",
              "      width: 32px;\n",
              "    }\n",
              "\n",
              "    .colab-df-convert:hover {\n",
              "      background-color: #E2EBFA;\n",
              "      box-shadow: 0px 1px 2px rgba(60, 64, 67, 0.3), 0px 1px 3px 1px rgba(60, 64, 67, 0.15);\n",
              "      fill: #174EA6;\n",
              "    }\n",
              "\n",
              "    .colab-df-buttons div {\n",
              "      margin-bottom: 4px;\n",
              "    }\n",
              "\n",
              "    [theme=dark] .colab-df-convert {\n",
              "      background-color: #3B4455;\n",
              "      fill: #D2E3FC;\n",
              "    }\n",
              "\n",
              "    [theme=dark] .colab-df-convert:hover {\n",
              "      background-color: #434B5C;\n",
              "      box-shadow: 0px 1px 3px 1px rgba(0, 0, 0, 0.15);\n",
              "      filter: drop-shadow(0px 1px 2px rgba(0, 0, 0, 0.3));\n",
              "      fill: #FFFFFF;\n",
              "    }\n",
              "  </style>\n",
              "\n",
              "    <script>\n",
              "      const buttonEl =\n",
              "        document.querySelector('#df-edc1c796-0577-4356-8b31-5aeaf805f984 button.colab-df-convert');\n",
              "      buttonEl.style.display =\n",
              "        google.colab.kernel.accessAllowed ? 'block' : 'none';\n",
              "\n",
              "      async function convertToInteractive(key) {\n",
              "        const element = document.querySelector('#df-edc1c796-0577-4356-8b31-5aeaf805f984');\n",
              "        const dataTable =\n",
              "          await google.colab.kernel.invokeFunction('convertToInteractive',\n",
              "                                                    [key], {});\n",
              "        if (!dataTable) return;\n",
              "\n",
              "        const docLinkHtml = 'Like what you see? Visit the ' +\n",
              "          '<a target=\"_blank\" href=https://colab.research.google.com/notebooks/data_table.ipynb>data table notebook</a>'\n",
              "          + ' to learn more about interactive tables.';\n",
              "        element.innerHTML = '';\n",
              "        dataTable['output_type'] = 'display_data';\n",
              "        await google.colab.output.renderOutput(dataTable, element);\n",
              "        const docLink = document.createElement('div');\n",
              "        docLink.innerHTML = docLinkHtml;\n",
              "        element.appendChild(docLink);\n",
              "      }\n",
              "    </script>\n",
              "  </div>\n",
              "\n",
              "\n",
              "<div id=\"df-3f9c8f40-8d86-46d7-93c2-a20eaee1a127\">\n",
              "  <button class=\"colab-df-quickchart\" onclick=\"quickchart('df-3f9c8f40-8d86-46d7-93c2-a20eaee1a127')\"\n",
              "            title=\"Suggest charts.\"\n",
              "            style=\"display:none;\">\n",
              "\n",
              "<svg xmlns=\"http://www.w3.org/2000/svg\" height=\"24px\"viewBox=\"0 0 24 24\"\n",
              "     width=\"24px\">\n",
              "    <g>\n",
              "        <path d=\"M19 3H5c-1.1 0-2 .9-2 2v14c0 1.1.9 2 2 2h14c1.1 0 2-.9 2-2V5c0-1.1-.9-2-2-2zM9 17H7v-7h2v7zm4 0h-2V7h2v10zm4 0h-2v-4h2v4z\"/>\n",
              "    </g>\n",
              "</svg>\n",
              "  </button>\n",
              "\n",
              "<style>\n",
              "  .colab-df-quickchart {\n",
              "      --bg-color: #E8F0FE;\n",
              "      --fill-color: #1967D2;\n",
              "      --hover-bg-color: #E2EBFA;\n",
              "      --hover-fill-color: #174EA6;\n",
              "      --disabled-fill-color: #AAA;\n",
              "      --disabled-bg-color: #DDD;\n",
              "  }\n",
              "\n",
              "  [theme=dark] .colab-df-quickchart {\n",
              "      --bg-color: #3B4455;\n",
              "      --fill-color: #D2E3FC;\n",
              "      --hover-bg-color: #434B5C;\n",
              "      --hover-fill-color: #FFFFFF;\n",
              "      --disabled-bg-color: #3B4455;\n",
              "      --disabled-fill-color: #666;\n",
              "  }\n",
              "\n",
              "  .colab-df-quickchart {\n",
              "    background-color: var(--bg-color);\n",
              "    border: none;\n",
              "    border-radius: 50%;\n",
              "    cursor: pointer;\n",
              "    display: none;\n",
              "    fill: var(--fill-color);\n",
              "    height: 32px;\n",
              "    padding: 0;\n",
              "    width: 32px;\n",
              "  }\n",
              "\n",
              "  .colab-df-quickchart:hover {\n",
              "    background-color: var(--hover-bg-color);\n",
              "    box-shadow: 0 1px 2px rgba(60, 64, 67, 0.3), 0 1px 3px 1px rgba(60, 64, 67, 0.15);\n",
              "    fill: var(--button-hover-fill-color);\n",
              "  }\n",
              "\n",
              "  .colab-df-quickchart-complete:disabled,\n",
              "  .colab-df-quickchart-complete:disabled:hover {\n",
              "    background-color: var(--disabled-bg-color);\n",
              "    fill: var(--disabled-fill-color);\n",
              "    box-shadow: none;\n",
              "  }\n",
              "\n",
              "  .colab-df-spinner {\n",
              "    border: 2px solid var(--fill-color);\n",
              "    border-color: transparent;\n",
              "    border-bottom-color: var(--fill-color);\n",
              "    animation:\n",
              "      spin 1s steps(1) infinite;\n",
              "  }\n",
              "\n",
              "  @keyframes spin {\n",
              "    0% {\n",
              "      border-color: transparent;\n",
              "      border-bottom-color: var(--fill-color);\n",
              "      border-left-color: var(--fill-color);\n",
              "    }\n",
              "    20% {\n",
              "      border-color: transparent;\n",
              "      border-left-color: var(--fill-color);\n",
              "      border-top-color: var(--fill-color);\n",
              "    }\n",
              "    30% {\n",
              "      border-color: transparent;\n",
              "      border-left-color: var(--fill-color);\n",
              "      border-top-color: var(--fill-color);\n",
              "      border-right-color: var(--fill-color);\n",
              "    }\n",
              "    40% {\n",
              "      border-color: transparent;\n",
              "      border-right-color: var(--fill-color);\n",
              "      border-top-color: var(--fill-color);\n",
              "    }\n",
              "    60% {\n",
              "      border-color: transparent;\n",
              "      border-right-color: var(--fill-color);\n",
              "    }\n",
              "    80% {\n",
              "      border-color: transparent;\n",
              "      border-right-color: var(--fill-color);\n",
              "      border-bottom-color: var(--fill-color);\n",
              "    }\n",
              "    90% {\n",
              "      border-color: transparent;\n",
              "      border-bottom-color: var(--fill-color);\n",
              "    }\n",
              "  }\n",
              "</style>\n",
              "\n",
              "  <script>\n",
              "    async function quickchart(key) {\n",
              "      const quickchartButtonEl =\n",
              "        document.querySelector('#' + key + ' button');\n",
              "      quickchartButtonEl.disabled = true;  // To prevent multiple clicks.\n",
              "      quickchartButtonEl.classList.add('colab-df-spinner');\n",
              "      try {\n",
              "        const charts = await google.colab.kernel.invokeFunction(\n",
              "            'suggestCharts', [key], {});\n",
              "      } catch (error) {\n",
              "        console.error('Error during call to suggestCharts:', error);\n",
              "      }\n",
              "      quickchartButtonEl.classList.remove('colab-df-spinner');\n",
              "      quickchartButtonEl.classList.add('colab-df-quickchart-complete');\n",
              "    }\n",
              "    (() => {\n",
              "      let quickchartButtonEl =\n",
              "        document.querySelector('#df-3f9c8f40-8d86-46d7-93c2-a20eaee1a127 button');\n",
              "      quickchartButtonEl.style.display =\n",
              "        google.colab.kernel.accessAllowed ? 'block' : 'none';\n",
              "    })();\n",
              "  </script>\n",
              "</div>\n",
              "    </div>\n",
              "  </div>\n"
            ]
          },
          "metadata": {},
          "execution_count": 16
        }
      ]
    },
    {
      "cell_type": "code",
      "source": [
        "# General overview of the data\n",
        "\n",
        "df.info()"
      ],
      "metadata": {
        "colab": {
          "base_uri": "https://localhost:8080/"
        },
        "id": "iYJmzCKbBlZ3",
        "outputId": "bb0185dc-61af-4656-ca23-57048c31f9c0"
      },
      "execution_count": null,
      "outputs": [
        {
          "output_type": "stream",
          "name": "stdout",
          "text": [
            "<class 'pandas.core.frame.DataFrame'>\n",
            "RangeIndex: 9800 entries, 0 to 9799\n",
            "Data columns (total 18 columns):\n",
            " #   Column         Non-Null Count  Dtype  \n",
            "---  ------         --------------  -----  \n",
            " 0   Row ID         9800 non-null   int64  \n",
            " 1   Order ID       9800 non-null   object \n",
            " 2   Order Date     9800 non-null   object \n",
            " 3   Ship Date      9800 non-null   object \n",
            " 4   Ship Mode      9800 non-null   object \n",
            " 5   Customer ID    9800 non-null   object \n",
            " 6   Customer Name  9800 non-null   object \n",
            " 7   Segment        9800 non-null   object \n",
            " 8   Country        9800 non-null   object \n",
            " 9   City           9800 non-null   object \n",
            " 10  State          9800 non-null   object \n",
            " 11  Postal Code    9789 non-null   float64\n",
            " 12  Region         9800 non-null   object \n",
            " 13  Product ID     9800 non-null   object \n",
            " 14  Category       9800 non-null   object \n",
            " 15  Sub-Category   9800 non-null   object \n",
            " 16  Product Name   9800 non-null   object \n",
            " 17  Sales          9800 non-null   float64\n",
            "dtypes: float64(2), int64(1), object(15)\n",
            "memory usage: 1.3+ MB\n"
          ]
        }
      ]
    },
    {
      "cell_type": "markdown",
      "source": [
        "# -> Noticed that the column11: Postal Code has 9789 values, little bit different from others"
      ],
      "metadata": {
        "id": "1pVaiTwxE00n"
      }
    },
    {
      "cell_type": "code",
      "source": [
        "# Calculate the no. of null values\n",
        "\n",
        "null_count = df['Postal Code'].isnull().sum()\n",
        "print(null_count)"
      ],
      "metadata": {
        "colab": {
          "base_uri": "https://localhost:8080/"
        },
        "id": "epyN0rOGGowf",
        "outputId": "0e09ad71-aa69-4165-c097-2df5dbb64ff8"
      },
      "execution_count": null,
      "outputs": [
        {
          "output_type": "stream",
          "name": "stdout",
          "text": [
            "11\n"
          ]
        }
      ]
    },
    {
      "cell_type": "code",
      "source": [
        "# Fill 0 to empty column\n",
        "\n",
        "df['Postal Code'] = df['Postal Code'].fillna(0)\n",
        "df.info()"
      ],
      "metadata": {
        "colab": {
          "base_uri": "https://localhost:8080/"
        },
        "id": "Z-UnG3YUBlXL",
        "outputId": "5c0105ec-beba-4601-8e68-68d962dadc4a"
      },
      "execution_count": null,
      "outputs": [
        {
          "output_type": "stream",
          "name": "stdout",
          "text": [
            "<class 'pandas.core.frame.DataFrame'>\n",
            "RangeIndex: 9800 entries, 0 to 9799\n",
            "Data columns (total 18 columns):\n",
            " #   Column         Non-Null Count  Dtype  \n",
            "---  ------         --------------  -----  \n",
            " 0   Row ID         9800 non-null   int64  \n",
            " 1   Order ID       9800 non-null   object \n",
            " 2   Order Date     9800 non-null   object \n",
            " 3   Ship Date      9800 non-null   object \n",
            " 4   Ship Mode      9800 non-null   object \n",
            " 5   Customer ID    9800 non-null   object \n",
            " 6   Customer Name  9800 non-null   object \n",
            " 7   Segment        9800 non-null   object \n",
            " 8   Country        9800 non-null   object \n",
            " 9   City           9800 non-null   object \n",
            " 10  State          9800 non-null   object \n",
            " 11  Postal Code    9800 non-null   float64\n",
            " 12  Region         9800 non-null   object \n",
            " 13  Product ID     9800 non-null   object \n",
            " 14  Category       9800 non-null   object \n",
            " 15  Sub-Category   9800 non-null   object \n",
            " 16  Product Name   9800 non-null   object \n",
            " 17  Sales          9800 non-null   float64\n",
            "dtypes: float64(2), int64(1), object(15)\n",
            "memory usage: 1.3+ MB\n"
          ]
        }
      ]
    },
    {
      "cell_type": "code",
      "source": [
        "# Convert decimal to integer (float64 to int64)\n",
        "\n",
        "df['Postal Code'] = df['Postal Code'].astype(int)\n",
        "df.info()"
      ],
      "metadata": {
        "id": "-lvVxZJdBlUH",
        "colab": {
          "base_uri": "https://localhost:8080/"
        },
        "outputId": "b7501eee-3b16-4538-b97e-493c2031061b"
      },
      "execution_count": null,
      "outputs": [
        {
          "output_type": "stream",
          "name": "stdout",
          "text": [
            "<class 'pandas.core.frame.DataFrame'>\n",
            "RangeIndex: 9800 entries, 0 to 9799\n",
            "Data columns (total 18 columns):\n",
            " #   Column         Non-Null Count  Dtype  \n",
            "---  ------         --------------  -----  \n",
            " 0   Row ID         9800 non-null   int64  \n",
            " 1   Order ID       9800 non-null   object \n",
            " 2   Order Date     9800 non-null   object \n",
            " 3   Ship Date      9800 non-null   object \n",
            " 4   Ship Mode      9800 non-null   object \n",
            " 5   Customer ID    9800 non-null   object \n",
            " 6   Customer Name  9800 non-null   object \n",
            " 7   Segment        9800 non-null   object \n",
            " 8   Country        9800 non-null   object \n",
            " 9   City           9800 non-null   object \n",
            " 10  State          9800 non-null   object \n",
            " 11  Postal Code    9800 non-null   int64  \n",
            " 12  Region         9800 non-null   object \n",
            " 13  Product ID     9800 non-null   object \n",
            " 14  Category       9800 non-null   object \n",
            " 15  Sub-Category   9800 non-null   object \n",
            " 16  Product Name   9800 non-null   object \n",
            " 17  Sales          9800 non-null   float64\n",
            "dtypes: float64(1), int64(2), object(15)\n",
            "memory usage: 1.3+ MB\n"
          ]
        }
      ]
    },
    {
      "cell_type": "code",
      "source": [
        "# Data description (numeric values columns)\n",
        "\n",
        "df.describe()"
      ],
      "metadata": {
        "id": "doZ_G-cmBlOQ",
        "colab": {
          "base_uri": "https://localhost:8080/",
          "height": 297
        },
        "outputId": "0324f95e-dfb0-4b0f-9276-3b0c978c1c6e"
      },
      "execution_count": null,
      "outputs": [
        {
          "output_type": "execute_result",
          "data": {
            "text/plain": [
              "            Row ID   Postal Code         Sales\n",
              "count  9800.000000   9800.000000   9800.000000\n",
              "mean   4900.500000  55211.280918    230.769059\n",
              "std    2829.160653  32076.677954    626.651875\n",
              "min       1.000000      0.000000      0.444000\n",
              "25%    2450.750000  23223.000000     17.248000\n",
              "50%    4900.500000  57551.000000     54.490000\n",
              "75%    7350.250000  90008.000000    210.605000\n",
              "max    9800.000000  99301.000000  22638.480000"
            ],
            "text/html": [
              "\n",
              "  <div id=\"df-2e56ba2f-d164-4c94-94ad-4cec04127b13\" class=\"colab-df-container\">\n",
              "    <div>\n",
              "<style scoped>\n",
              "    .dataframe tbody tr th:only-of-type {\n",
              "        vertical-align: middle;\n",
              "    }\n",
              "\n",
              "    .dataframe tbody tr th {\n",
              "        vertical-align: top;\n",
              "    }\n",
              "\n",
              "    .dataframe thead th {\n",
              "        text-align: right;\n",
              "    }\n",
              "</style>\n",
              "<table border=\"1\" class=\"dataframe\">\n",
              "  <thead>\n",
              "    <tr style=\"text-align: right;\">\n",
              "      <th></th>\n",
              "      <th>Row ID</th>\n",
              "      <th>Postal Code</th>\n",
              "      <th>Sales</th>\n",
              "    </tr>\n",
              "  </thead>\n",
              "  <tbody>\n",
              "    <tr>\n",
              "      <th>count</th>\n",
              "      <td>9800.000000</td>\n",
              "      <td>9800.000000</td>\n",
              "      <td>9800.000000</td>\n",
              "    </tr>\n",
              "    <tr>\n",
              "      <th>mean</th>\n",
              "      <td>4900.500000</td>\n",
              "      <td>55211.280918</td>\n",
              "      <td>230.769059</td>\n",
              "    </tr>\n",
              "    <tr>\n",
              "      <th>std</th>\n",
              "      <td>2829.160653</td>\n",
              "      <td>32076.677954</td>\n",
              "      <td>626.651875</td>\n",
              "    </tr>\n",
              "    <tr>\n",
              "      <th>min</th>\n",
              "      <td>1.000000</td>\n",
              "      <td>0.000000</td>\n",
              "      <td>0.444000</td>\n",
              "    </tr>\n",
              "    <tr>\n",
              "      <th>25%</th>\n",
              "      <td>2450.750000</td>\n",
              "      <td>23223.000000</td>\n",
              "      <td>17.248000</td>\n",
              "    </tr>\n",
              "    <tr>\n",
              "      <th>50%</th>\n",
              "      <td>4900.500000</td>\n",
              "      <td>57551.000000</td>\n",
              "      <td>54.490000</td>\n",
              "    </tr>\n",
              "    <tr>\n",
              "      <th>75%</th>\n",
              "      <td>7350.250000</td>\n",
              "      <td>90008.000000</td>\n",
              "      <td>210.605000</td>\n",
              "    </tr>\n",
              "    <tr>\n",
              "      <th>max</th>\n",
              "      <td>9800.000000</td>\n",
              "      <td>99301.000000</td>\n",
              "      <td>22638.480000</td>\n",
              "    </tr>\n",
              "  </tbody>\n",
              "</table>\n",
              "</div>\n",
              "    <div class=\"colab-df-buttons\">\n",
              "\n",
              "  <div class=\"colab-df-container\">\n",
              "    <button class=\"colab-df-convert\" onclick=\"convertToInteractive('df-2e56ba2f-d164-4c94-94ad-4cec04127b13')\"\n",
              "            title=\"Convert this dataframe to an interactive table.\"\n",
              "            style=\"display:none;\">\n",
              "\n",
              "  <svg xmlns=\"http://www.w3.org/2000/svg\" height=\"24px\" viewBox=\"0 -960 960 960\">\n",
              "    <path d=\"M120-120v-720h720v720H120Zm60-500h600v-160H180v160Zm220 220h160v-160H400v160Zm0 220h160v-160H400v160ZM180-400h160v-160H180v160Zm440 0h160v-160H620v160ZM180-180h160v-160H180v160Zm440 0h160v-160H620v160Z\"/>\n",
              "  </svg>\n",
              "    </button>\n",
              "\n",
              "  <style>\n",
              "    .colab-df-container {\n",
              "      display:flex;\n",
              "      gap: 12px;\n",
              "    }\n",
              "\n",
              "    .colab-df-convert {\n",
              "      background-color: #E8F0FE;\n",
              "      border: none;\n",
              "      border-radius: 50%;\n",
              "      cursor: pointer;\n",
              "      display: none;\n",
              "      fill: #1967D2;\n",
              "      height: 32px;\n",
              "      padding: 0 0 0 0;\n",
              "      width: 32px;\n",
              "    }\n",
              "\n",
              "    .colab-df-convert:hover {\n",
              "      background-color: #E2EBFA;\n",
              "      box-shadow: 0px 1px 2px rgba(60, 64, 67, 0.3), 0px 1px 3px 1px rgba(60, 64, 67, 0.15);\n",
              "      fill: #174EA6;\n",
              "    }\n",
              "\n",
              "    .colab-df-buttons div {\n",
              "      margin-bottom: 4px;\n",
              "    }\n",
              "\n",
              "    [theme=dark] .colab-df-convert {\n",
              "      background-color: #3B4455;\n",
              "      fill: #D2E3FC;\n",
              "    }\n",
              "\n",
              "    [theme=dark] .colab-df-convert:hover {\n",
              "      background-color: #434B5C;\n",
              "      box-shadow: 0px 1px 3px 1px rgba(0, 0, 0, 0.15);\n",
              "      filter: drop-shadow(0px 1px 2px rgba(0, 0, 0, 0.3));\n",
              "      fill: #FFFFFF;\n",
              "    }\n",
              "  </style>\n",
              "\n",
              "    <script>\n",
              "      const buttonEl =\n",
              "        document.querySelector('#df-2e56ba2f-d164-4c94-94ad-4cec04127b13 button.colab-df-convert');\n",
              "      buttonEl.style.display =\n",
              "        google.colab.kernel.accessAllowed ? 'block' : 'none';\n",
              "\n",
              "      async function convertToInteractive(key) {\n",
              "        const element = document.querySelector('#df-2e56ba2f-d164-4c94-94ad-4cec04127b13');\n",
              "        const dataTable =\n",
              "          await google.colab.kernel.invokeFunction('convertToInteractive',\n",
              "                                                    [key], {});\n",
              "        if (!dataTable) return;\n",
              "\n",
              "        const docLinkHtml = 'Like what you see? Visit the ' +\n",
              "          '<a target=\"_blank\" href=https://colab.research.google.com/notebooks/data_table.ipynb>data table notebook</a>'\n",
              "          + ' to learn more about interactive tables.';\n",
              "        element.innerHTML = '';\n",
              "        dataTable['output_type'] = 'display_data';\n",
              "        await google.colab.output.renderOutput(dataTable, element);\n",
              "        const docLink = document.createElement('div');\n",
              "        docLink.innerHTML = docLinkHtml;\n",
              "        element.appendChild(docLink);\n",
              "      }\n",
              "    </script>\n",
              "  </div>\n",
              "\n",
              "\n",
              "<div id=\"df-a2267218-4093-420d-965a-1aced5542373\">\n",
              "  <button class=\"colab-df-quickchart\" onclick=\"quickchart('df-a2267218-4093-420d-965a-1aced5542373')\"\n",
              "            title=\"Suggest charts.\"\n",
              "            style=\"display:none;\">\n",
              "\n",
              "<svg xmlns=\"http://www.w3.org/2000/svg\" height=\"24px\"viewBox=\"0 0 24 24\"\n",
              "     width=\"24px\">\n",
              "    <g>\n",
              "        <path d=\"M19 3H5c-1.1 0-2 .9-2 2v14c0 1.1.9 2 2 2h14c1.1 0 2-.9 2-2V5c0-1.1-.9-2-2-2zM9 17H7v-7h2v7zm4 0h-2V7h2v10zm4 0h-2v-4h2v4z\"/>\n",
              "    </g>\n",
              "</svg>\n",
              "  </button>\n",
              "\n",
              "<style>\n",
              "  .colab-df-quickchart {\n",
              "      --bg-color: #E8F0FE;\n",
              "      --fill-color: #1967D2;\n",
              "      --hover-bg-color: #E2EBFA;\n",
              "      --hover-fill-color: #174EA6;\n",
              "      --disabled-fill-color: #AAA;\n",
              "      --disabled-bg-color: #DDD;\n",
              "  }\n",
              "\n",
              "  [theme=dark] .colab-df-quickchart {\n",
              "      --bg-color: #3B4455;\n",
              "      --fill-color: #D2E3FC;\n",
              "      --hover-bg-color: #434B5C;\n",
              "      --hover-fill-color: #FFFFFF;\n",
              "      --disabled-bg-color: #3B4455;\n",
              "      --disabled-fill-color: #666;\n",
              "  }\n",
              "\n",
              "  .colab-df-quickchart {\n",
              "    background-color: var(--bg-color);\n",
              "    border: none;\n",
              "    border-radius: 50%;\n",
              "    cursor: pointer;\n",
              "    display: none;\n",
              "    fill: var(--fill-color);\n",
              "    height: 32px;\n",
              "    padding: 0;\n",
              "    width: 32px;\n",
              "  }\n",
              "\n",
              "  .colab-df-quickchart:hover {\n",
              "    background-color: var(--hover-bg-color);\n",
              "    box-shadow: 0 1px 2px rgba(60, 64, 67, 0.3), 0 1px 3px 1px rgba(60, 64, 67, 0.15);\n",
              "    fill: var(--button-hover-fill-color);\n",
              "  }\n",
              "\n",
              "  .colab-df-quickchart-complete:disabled,\n",
              "  .colab-df-quickchart-complete:disabled:hover {\n",
              "    background-color: var(--disabled-bg-color);\n",
              "    fill: var(--disabled-fill-color);\n",
              "    box-shadow: none;\n",
              "  }\n",
              "\n",
              "  .colab-df-spinner {\n",
              "    border: 2px solid var(--fill-color);\n",
              "    border-color: transparent;\n",
              "    border-bottom-color: var(--fill-color);\n",
              "    animation:\n",
              "      spin 1s steps(1) infinite;\n",
              "  }\n",
              "\n",
              "  @keyframes spin {\n",
              "    0% {\n",
              "      border-color: transparent;\n",
              "      border-bottom-color: var(--fill-color);\n",
              "      border-left-color: var(--fill-color);\n",
              "    }\n",
              "    20% {\n",
              "      border-color: transparent;\n",
              "      border-left-color: var(--fill-color);\n",
              "      border-top-color: var(--fill-color);\n",
              "    }\n",
              "    30% {\n",
              "      border-color: transparent;\n",
              "      border-left-color: var(--fill-color);\n",
              "      border-top-color: var(--fill-color);\n",
              "      border-right-color: var(--fill-color);\n",
              "    }\n",
              "    40% {\n",
              "      border-color: transparent;\n",
              "      border-right-color: var(--fill-color);\n",
              "      border-top-color: var(--fill-color);\n",
              "    }\n",
              "    60% {\n",
              "      border-color: transparent;\n",
              "      border-right-color: var(--fill-color);\n",
              "    }\n",
              "    80% {\n",
              "      border-color: transparent;\n",
              "      border-right-color: var(--fill-color);\n",
              "      border-bottom-color: var(--fill-color);\n",
              "    }\n",
              "    90% {\n",
              "      border-color: transparent;\n",
              "      border-bottom-color: var(--fill-color);\n",
              "    }\n",
              "  }\n",
              "</style>\n",
              "\n",
              "  <script>\n",
              "    async function quickchart(key) {\n",
              "      const quickchartButtonEl =\n",
              "        document.querySelector('#' + key + ' button');\n",
              "      quickchartButtonEl.disabled = true;  // To prevent multiple clicks.\n",
              "      quickchartButtonEl.classList.add('colab-df-spinner');\n",
              "      try {\n",
              "        const charts = await google.colab.kernel.invokeFunction(\n",
              "            'suggestCharts', [key], {});\n",
              "      } catch (error) {\n",
              "        console.error('Error during call to suggestCharts:', error);\n",
              "      }\n",
              "      quickchartButtonEl.classList.remove('colab-df-spinner');\n",
              "      quickchartButtonEl.classList.add('colab-df-quickchart-complete');\n",
              "    }\n",
              "    (() => {\n",
              "      let quickchartButtonEl =\n",
              "        document.querySelector('#df-a2267218-4093-420d-965a-1aced5542373 button');\n",
              "      quickchartButtonEl.style.display =\n",
              "        google.colab.kernel.accessAllowed ? 'block' : 'none';\n",
              "    })();\n",
              "  </script>\n",
              "</div>\n",
              "    </div>\n",
              "  </div>\n"
            ]
          },
          "metadata": {},
          "execution_count": 21
        }
      ]
    },
    {
      "cell_type": "markdown",
      "source": [
        "### DATA CLEANING"
      ],
      "metadata": {
        "id": "RaQAfhtQIeBb"
      }
    },
    {
      "cell_type": "code",
      "source": [
        "# Check for duplicates\n",
        "\n",
        "if df.duplicated().sum() >0:\n",
        "    print('Present duplicates are: ')\n",
        "else:\n",
        "    print('No duplicates exist')"
      ],
      "metadata": {
        "colab": {
          "base_uri": "https://localhost:8080/"
        },
        "id": "M2S4rzeHHyAm",
        "outputId": "accea211-b349-466e-9b73-e826d54d08c4"
      },
      "execution_count": null,
      "outputs": [
        {
          "output_type": "stream",
          "name": "stdout",
          "text": [
            "No duplicates exist\n"
          ]
        }
      ]
    },
    {
      "cell_type": "code",
      "source": [
        "df.duplicated().sum()"
      ],
      "metadata": {
        "colab": {
          "base_uri": "https://localhost:8080/"
        },
        "id": "Cjv2mxdLHx-4",
        "outputId": "22d41b64-f106-498c-b59a-35cbfe06e004"
      },
      "execution_count": null,
      "outputs": [
        {
          "output_type": "execute_result",
          "data": {
            "text/plain": [
              "0"
            ]
          },
          "metadata": {},
          "execution_count": 23
        }
      ]
    },
    {
      "cell_type": "markdown",
      "source": [
        "### EXPLORATORY DATA ANALYSIS"
      ],
      "metadata": {
        "id": "cWumJML2KLuN"
      }
    },
    {
      "cell_type": "code",
      "source": [
        "# Customer Segmentation\n",
        "\n",
        "types_of_customer = df['Segment'].unique()\n",
        "print(types_of_customer)"
      ],
      "metadata": {
        "colab": {
          "base_uri": "https://localhost:8080/"
        },
        "id": "_-6HWMAGHx8q",
        "outputId": "ad6a141c-02aa-460d-c51c-a3a376435b5e"
      },
      "execution_count": null,
      "outputs": [
        {
          "output_type": "stream",
          "name": "stdout",
          "text": [
            "['Consumer' 'Corporate' 'Home Office']\n"
          ]
        }
      ]
    },
    {
      "cell_type": "code",
      "source": [
        "number_of_customer = df['Segment'].value_counts().reset_index()\n",
        "print(number_of_customer)"
      ],
      "metadata": {
        "colab": {
          "base_uri": "https://localhost:8080/"
        },
        "id": "mM3JzseDHx6L",
        "outputId": "e0f3ac8c-a6cd-4eb1-ff2c-12fab1530471"
      },
      "execution_count": null,
      "outputs": [
        {
          "output_type": "stream",
          "name": "stdout",
          "text": [
            "         index  Segment\n",
            "0     Consumer     5101\n",
            "1    Corporate     2953\n",
            "2  Home Office     1746\n"
          ]
        }
      ]
    },
    {
      "cell_type": "code",
      "source": [
        "number_of_customer = number_of_customer.rename(columns={'index':'Customer Type', 'Segment':'Total Customer'})\n",
        "print(number_of_customer)"
      ],
      "metadata": {
        "colab": {
          "base_uri": "https://localhost:8080/"
        },
        "id": "W3IkPxbJHx31",
        "outputId": "8a09aa08-8f9c-4134-8125-75794d966e87"
      },
      "execution_count": null,
      "outputs": [
        {
          "output_type": "stream",
          "name": "stdout",
          "text": [
            "  Customer Type  Total Customer\n",
            "0      Consumer            5101\n",
            "1     Corporate            2953\n",
            "2   Home Office            1746\n"
          ]
        }
      ]
    },
    {
      "cell_type": "code",
      "source": [
        "# Plotting a Pie chart\n",
        "\n",
        "plt.pie(number_of_customer['Total Customer'], labels=number_of_customer['Customer Type'], autopct='%1.1f%%')\n",
        "\n",
        "# Set Pie chart Lables\n",
        "\n",
        "plt.title('Distribution of Customers')\n",
        "plt.show()"
      ],
      "metadata": {
        "colab": {
          "base_uri": "https://localhost:8080/",
          "height": 428
        },
        "id": "kf_ChqjxHx1f",
        "outputId": "13a62883-a2a4-49af-859d-df91d1877442"
      },
      "execution_count": null,
      "outputs": [
        {
          "output_type": "display_data",
          "data": {
            "text/plain": [
              "<Figure size 640x480 with 1 Axes>"
            ],
            "image/png": "[encoded data removed]"
          },
          "metadata": {}
        }
      ]
    },
    {
      "cell_type": "code",
      "source": [
        "# Sales per Customer Segment\n",
        "\n",
        "sales_per_category = df.groupby('Segment')['Sales'].sum().reset_index()\n",
        "sales_per_category = sales_per_category.rename(columns={'Segment':'Customer Type', 'Sales':'Total Sales'})\n",
        "print(sales_per_category)"
      ],
      "metadata": {
        "colab": {
          "base_uri": "https://localhost:8080/"
        },
        "id": "NGns2snoHxzI",
        "outputId": "6bb0bf25-5c84-4f26-8934-69e507378b66"
      },
      "execution_count": null,
      "outputs": [
        {
          "output_type": "stream",
          "name": "stdout",
          "text": [
            "  Customer Type   Total Sales\n",
            "0      Consumer  1.148061e+06\n",
            "1     Corporate  6.884941e+05\n",
            "2   Home Office  4.249822e+05\n"
          ]
        }
      ]
    },
    {
      "cell_type": "code",
      "source": [
        "# Plotting a Pie chart2\n",
        "\n",
        "plt.pie(sales_per_category['Total Sales'], labels=sales_per_category['Customer Type'], autopct='%1.1f%%')\n",
        "\n",
        "# Set Pie chart2 Lables\n",
        "\n",
        "plt.title('Sales Per Customer Category')\n",
        "plt.show()"
      ],
      "metadata": {
        "colab": {
          "base_uri": "https://localhost:8080/",
          "height": 428
        },
        "id": "TUTCAiE0Hxwt",
        "outputId": "0424053b-5858-44e8-96c7-7bd8ed071a4a"
      },
      "execution_count": null,
      "outputs": [
        {
          "output_type": "display_data",
          "data": {
            "text/plain": [
              "<Figure size 640x480 with 1 Axes>"
            ],
            "image/png": "[encoded data removed]"
          },
          "metadata": {}
        }
      ]
    },
    {
      "cell_type": "code",
      "source": [
        "# Bar graph (alternative)\n",
        "\n",
        "plt.bar(sales_per_category['Customer Type'], sales_per_category['Total Sales'])\n",
        "\n",
        "# Label\n",
        "plt.title('Sales per Customer Segment')\n",
        "plt.xlabel('Customer Type')\n",
        "plt.ylabel('Total Sales')\n",
        "\n",
        "plt.show()"
      ],
      "metadata": {
        "colab": {
          "base_uri": "https://localhost:8080/",
          "height": 472
        },
        "id": "mJ_6MqpLHxpD",
        "outputId": "258b3191-060e-47db-cac2-8c004f847c16"
      },
      "execution_count": null,
      "outputs": [
        {
          "output_type": "display_data",
          "data": {
            "text/plain": [
              "<Figure size 640x480 with 1 Axes>"
            ],
            "image/png": "[encoded data removed]"
          },
          "metadata": {}
        }
      ]
    },
    {
      "cell_type": "markdown",
      "source": [
        "### Customer Loyalty"
      ],
      "metadata": {
        "id": "f-aqMNi1VDnH"
      }
    },
    {
      "cell_type": "code",
      "source": [
        "# Group data according to: Customer ID, Customer Name, Segment and calculate frequentcy of their orders\n",
        "\n",
        "customer_order_freq = df.groupby(['Customer ID', 'Customer Name', 'Segment'])['Order ID'].count().reset_index()\n",
        "customer_order_freq.rename(columns={'Order ID':'Total Orders'}, inplace=True)\n",
        "\n",
        "print(customer_order_freq)"
      ],
      "metadata": {
        "colab": {
          "base_uri": "https://localhost:8080/"
        },
        "id": "pAvApXjAQice",
        "outputId": "ddbb3442-2f49-446e-b4af-a04eac5800cf"
      },
      "execution_count": null,
      "outputs": [
        {
          "output_type": "stream",
          "name": "stdout",
          "text": [
            "    Customer ID       Customer Name    Segment  Total Orders\n",
            "0      AA-10315          Alex Avila   Consumer            11\n",
            "1      AA-10375        Allen Armold   Consumer            15\n",
            "2      AA-10480        Andrew Allen   Consumer            12\n",
            "3      AA-10645       Anna Andreadi   Consumer            18\n",
            "4      AB-10015       Aaron Bergman   Consumer             6\n",
            "..          ...                 ...        ...           ...\n",
            "788    XP-21865        Xylona Preis   Consumer            28\n",
            "789    YC-21895      Yoseph Carroll  Corporate             8\n",
            "790    YS-21880       Yana Sorensen  Corporate            12\n",
            "791    ZC-21910    Zuschuss Carroll   Consumer            31\n",
            "792    ZD-21925  Zuschuss Donatelli   Consumer             9\n",
            "\n",
            "[793 rows x 4 columns]\n"
          ]
        }
      ]
    },
    {
      "cell_type": "code",
      "source": [
        "# Identify repeat Customer\n",
        "\n",
        "repeat_customer = customer_order_freq[customer_order_freq['Total Orders']>=1]\n",
        "\n",
        "# Sort repeat customer in descending order\n",
        "\n",
        "sorted_repeated_customer = repeat_customer.sort_values(by='Total Orders', ascending=False)\n",
        "print(sorted_repeated_customer.head(10).reset_index(drop=True))"
      ],
      "metadata": {
        "colab": {
          "base_uri": "https://localhost:8080/"
        },
        "id": "EeIGVSOgQiaE",
        "outputId": "24400818-f912-404d-af83-058d791149ea"
      },
      "execution_count": null,
      "outputs": [
        {
          "output_type": "stream",
          "name": "stdout",
          "text": [
            "  Customer ID        Customer Name      Segment  Total Orders\n",
            "0    WB-21850        William Brown     Consumer            35\n",
            "1    PP-18955           Paul Prost  Home Office            34\n",
            "2    MA-17560         Matt Abelman  Home Office            34\n",
            "3    JL-15835             John Lee     Consumer            33\n",
            "4    CK-12205  Chloris Kastensmidt     Consumer            32\n",
            "5    SV-20365          Seth Vernon     Consumer            32\n",
            "6    JD-15895     Jonathan Doherty    Corporate            32\n",
            "7    AP-10915       Arthur Prichep     Consumer            31\n",
            "8    ZC-21910     Zuschuss Carroll     Consumer            31\n",
            "9    EP-13915           Emily Phan     Consumer            31\n"
          ]
        }
      ]
    },
    {
      "cell_type": "markdown",
      "source": [
        "### Ranking Customer by Sales\n"
      ],
      "metadata": {
        "id": "gCPlj1EMVKpc"
      }
    },
    {
      "cell_type": "code",
      "source": [
        "# Group data based on: Customer ID, Customer Name and Sales\n",
        "\n",
        "customer_sales = df.groupby(['Customer ID', 'Customer Name', 'Segment'])['Sales'].sum().reset_index()\n",
        "\n",
        "# Sort in descending order\n",
        "\n",
        "top_spenders = customer_sales.sort_values(by='Sales', ascending=False)\n",
        "\n",
        "print(top_spenders.head(10).reset_index(drop=True))"
      ],
      "metadata": {
        "colab": {
          "base_uri": "https://localhost:8080/"
        },
        "id": "GuHFUZwBQiX3",
        "outputId": "ba1ab01f-1bdf-439b-e2e1-c5fd2a40f6bc"
      },
      "execution_count": null,
      "outputs": [
        {
          "output_type": "stream",
          "name": "stdout",
          "text": [
            "  Customer ID       Customer Name      Segment      Sales\n",
            "0    SM-20320         Sean Miller  Home Office  25043.050\n",
            "1    TC-20980        Tamara Chand    Corporate  19052.218\n",
            "2    RB-19360        Raymond Buch     Consumer  15117.339\n",
            "3    TA-21385        Tom Ashbrook  Home Office  14595.620\n",
            "4    AB-10105       Adrian Barton     Consumer  14473.571\n",
            "5    KL-16645        Ken Lonsdale     Consumer  14175.229\n",
            "6    SC-20095        Sanjit Chand     Consumer  14142.334\n",
            "7    HL-15040        Hunter Lopez     Consumer  12873.298\n",
            "8    SE-20110        Sanjit Engle     Consumer  12209.438\n",
            "9    CC-12370  Christopher Conant     Consumer  12129.072\n"
          ]
        }
      ]
    },
    {
      "cell_type": "markdown",
      "source": [
        "### Analysis of Shipping methods\n"
      ],
      "metadata": {
        "id": "QpcuFnNQkuSN"
      }
    },
    {
      "cell_type": "code",
      "source": [
        "df.sample(5)"
      ],
      "metadata": {
        "colab": {
          "base_uri": "https://localhost:8080/",
          "height": 615
        },
        "id": "9tgSqGWfQiVV",
        "outputId": "986441fc-c905-4bcc-b374-6122379fa601"
      },
      "execution_count": null,
      "outputs": [
        {
          "output_type": "execute_result",
          "data": {
            "text/plain": [
              "      Row ID        Order ID  Order Date   Ship Date       Ship Mode  \\\n",
              "3887    3888  CA-2015-100895  02/06/2015  06/06/2015  Standard Class   \n",
              "3782    3783  CA-2018-165204  13/11/2018  16/11/2018    Second Class   \n",
              "3357    3358  CA-2018-100335  07/09/2018  13/09/2018  Standard Class   \n",
              "8634    8635  CA-2018-159793  25/08/2018  29/08/2018  Standard Class   \n",
              "8568    8569  CA-2017-162390  06/12/2017  12/12/2017  Standard Class   \n",
              "\n",
              "     Customer ID     Customer Name      Segment        Country          City  \\\n",
              "3887    SV-20785  Stewart Visinsky     Consumer  United States       Roswell   \n",
              "3782    MN-17935    Michael Nguyen     Consumer  United States       Memphis   \n",
              "3357    NF-18595      Nicole Fjeld  Home Office  United States       Chicago   \n",
              "8634    SV-20365       Seth Vernon     Consumer  United States  Philadelphia   \n",
              "8568    DP-13105      Dave Poirier    Corporate  United States     Hempstead   \n",
              "\n",
              "             State  Postal Code   Region       Product ID         Category  \\\n",
              "3887       Georgia        30076    South  OFF-AR-10004511  Office Supplies   \n",
              "3782     Tennessee        38109    South  OFF-PA-10003424  Office Supplies   \n",
              "3357      Illinois        60610  Central  OFF-PA-10001685  Office Supplies   \n",
              "8634  Pennsylvania        19140     East  FUR-BO-10001798        Furniture   \n",
              "8568      New York        11550     East  OFF-BI-10004318  Office Supplies   \n",
              "\n",
              "     Sub-Category                                       Product Name    Sales  \n",
              "3887          Art  Sanford Colorific Scented Colored Pencils, 12/...    8.560  \n",
              "3782        Paper  \"While you Were Out\" Message Book, One Form pe...    8.904  \n",
              "3357        Paper                                  Easy-staple paper   73.008  \n",
              "8634    Bookcases                  Bush Somerset Collection Bookcase  130.980  \n",
              "8568      Binders    Ibico EB-19 Dual Function Manual Binding System  968.744  "
            ],
            "text/html": [
              "\n",
              "  <div id=\"df-b076ad1a-b942-40a1-8502-92acaf6dc9c1\" class=\"colab-df-container\">\n",
              "    <div>\n",
              "<style scoped>\n",
              "    .dataframe tbody tr th:only-of-type {\n",
              "        vertical-align: middle;\n",
              "    }\n",
              "\n",
              "    .dataframe tbody tr th {\n",
              "        vertical-align: top;\n",
              "    }\n",
              "\n",
              "    .dataframe thead th {\n",
              "        text-align: right;\n",
              "    }\n",
              "</style>\n",
              "<table border=\"1\" class=\"dataframe\">\n",
              "  <thead>\n",
              "    <tr style=\"text-align: right;\">\n",
              "      <th></th>\n",
              "      <th>Row ID</th>\n",
              "      <th>Order ID</th>\n",
              "      <th>Order Date</th>\n",
              "      <th>Ship Date</th>\n",
              "      <th>Ship Mode</th>\n",
              "      <th>Customer ID</th>\n",
              "      <th>Customer Name</th>\n",
              "      <th>Segment</th>\n",
              "      <th>Country</th>\n",
              "      <th>City</th>\n",
              "      <th>State</th>\n",
              "      <th>Postal Code</th>\n",
              "      <th>Region</th>\n",
              "      <th>Product ID</th>\n",
              "      <th>Category</th>\n",
              "      <th>Sub-Category</th>\n",
              "      <th>Product Name</th>\n",
              "      <th>Sales</th>\n",
              "    </tr>\n",
              "  </thead>\n",
              "  <tbody>\n",
              "    <tr>\n",
              "      <th>3887</th>\n",
              "      <td>3888</td>\n",
              "      <td>CA-2015-100895</td>\n",
              "      <td>02/06/2015</td>\n",
              "      <td>06/06/2015</td>\n",
              "      <td>Standard Class</td>\n",
              "      <td>SV-20785</td>\n",
              "      <td>Stewart Visinsky</td>\n",
              "      <td>Consumer</td>\n",
              "      <td>United States</td>\n",
              "      <td>Roswell</td>\n",
              "      <td>Georgia</td>\n",
              "      <td>30076</td>\n",
              "      <td>South</td>\n",
              "      <td>OFF-AR-10004511</td>\n",
              "      <td>Office Supplies</td>\n",
              "      <td>Art</td>\n",
              "      <td>Sanford Colorific Scented Colored Pencils, 12/...</td>\n",
              "      <td>8.560</td>\n",
              "    </tr>\n",
              "    <tr>\n",
              "      <th>3782</th>\n",
              "      <td>3783</td>\n",
              "      <td>CA-2018-165204</td>\n",
              "      <td>13/11/2018</td>\n",
              "      <td>16/11/2018</td>\n",
              "      <td>Second Class</td>\n",
              "      <td>MN-17935</td>\n",
              "      <td>Michael Nguyen</td>\n",
              "      <td>Consumer</td>\n",
              "      <td>United States</td>\n",
              "      <td>Memphis</td>\n",
              "      <td>Tennessee</td>\n",
              "      <td>38109</td>\n",
              "      <td>South</td>\n",
              "      <td>OFF-PA-10003424</td>\n",
              "      <td>Office Supplies</td>\n",
              "      <td>Paper</td>\n",
              "      <td>\"While you Were Out\" Message Book, One Form pe...</td>\n",
              "      <td>8.904</td>\n",
              "    </tr>\n",
              "    <tr>\n",
              "      <th>3357</th>\n",
              "      <td>3358</td>\n",
              "      <td>CA-2018-100335</td>\n",
              "      <td>07/09/2018</td>\n",
              "      <td>13/09/2018</td>\n",
              "      <td>Standard Class</td>\n",
              "      <td>NF-18595</td>\n",
              "      <td>Nicole Fjeld</td>\n",
              "      <td>Home Office</td>\n",
              "      <td>United States</td>\n",
              "      <td>Chicago</td>\n",
              "      <td>Illinois</td>\n",
              "      <td>60610</td>\n",
              "      <td>Central</td>\n",
              "      <td>OFF-PA-10001685</td>\n",
              "      <td>Office Supplies</td>\n",
              "      <td>Paper</td>\n",
              "      <td>Easy-staple paper</td>\n",
              "      <td>73.008</td>\n",
              "    </tr>\n",
              "    <tr>\n",
              "      <th>8634</th>\n",
              "      <td>8635</td>\n",
              "      <td>CA-2018-159793</td>\n",
              "      <td>25/08/2018</td>\n",
              "      <td>29/08/2018</td>\n",
              "      <td>Standard Class</td>\n",
              "      <td>SV-20365</td>\n",
              "      <td>Seth Vernon</td>\n",
              "      <td>Consumer</td>\n",
              "      <td>United States</td>\n",
              "      <td>Philadelphia</td>\n",
              "      <td>Pennsylvania</td>\n",
              "      <td>19140</td>\n",
              "      <td>East</td>\n",
              "      <td>FUR-BO-10001798</td>\n",
              "      <td>Furniture</td>\n",
              "      <td>Bookcases</td>\n",
              "      <td>Bush Somerset Collection Bookcase</td>\n",
              "      <td>130.980</td>\n",
              "    </tr>\n",
              "    <tr>\n",
              "      <th>8568</th>\n",
              "      <td>8569</td>\n",
              "      <td>CA-2017-162390</td>\n",
              "      <td>06/12/2017</td>\n",
              "      <td>12/12/2017</td>\n",
              "      <td>Standard Class</td>\n",
              "      <td>DP-13105</td>\n",
              "      <td>Dave Poirier</td>\n",
              "      <td>Corporate</td>\n",
              "      <td>United States</td>\n",
              "      <td>Hempstead</td>\n",
              "      <td>New York</td>\n",
              "      <td>11550</td>\n",
              "      <td>East</td>\n",
              "      <td>OFF-BI-10004318</td>\n",
              "      <td>Office Supplies</td>\n",
              "      <td>Binders</td>\n",
              "      <td>Ibico EB-19 Dual Function Manual Binding System</td>\n",
              "      <td>968.744</td>\n",
              "    </tr>\n",
              "  </tbody>\n",
              "</table>\n",
              "</div>\n",
              "    <div class=\"colab-df-buttons\">\n",
              "\n",
              "  <div class=\"colab-df-container\">\n",
              "    <button class=\"colab-df-convert\" onclick=\"convertToInteractive('df-b076ad1a-b942-40a1-8502-92acaf6dc9c1')\"\n",
              "            title=\"Convert this dataframe to an interactive table.\"\n",
              "            style=\"display:none;\">\n",
              "\n",
              "  <svg xmlns=\"http://www.w3.org/2000/svg\" height=\"24px\" viewBox=\"0 -960 960 960\">\n",
              "    <path d=\"M120-120v-720h720v720H120Zm60-500h600v-160H180v160Zm220 220h160v-160H400v160Zm0 220h160v-160H400v160ZM180-400h160v-160H180v160Zm440 0h160v-160H620v160ZM180-180h160v-160H180v160Zm440 0h160v-160H620v160Z\"/>\n",
              "  </svg>\n",
              "    </button>\n",
              "\n",
              "  <style>\n",
              "    .colab-df-container {\n",
              "      display:flex;\n",
              "      gap: 12px;\n",
              "    }\n",
              "\n",
              "    .colab-df-convert {\n",
              "      background-color: #E8F0FE;\n",
              "      border: none;\n",
              "      border-radius: 50%;\n",
              "      cursor: pointer;\n",
              "      display: none;\n",
              "      fill: #1967D2;\n",
              "      height: 32px;\n",
              "      padding: 0 0 0 0;\n",
              "      width: 32px;\n",
              "    }\n",
              "\n",
              "    .colab-df-convert:hover {\n",
              "      background-color: #E2EBFA;\n",
              "      box-shadow: 0px 1px 2px rgba(60, 64, 67, 0.3), 0px 1px 3px 1px rgba(60, 64, 67, 0.15);\n",
              "      fill: #174EA6;\n",
              "    }\n",
              "\n",
              "    .colab-df-buttons div {\n",
              "      margin-bottom: 4px;\n",
              "    }\n",
              "\n",
              "    [theme=dark] .colab-df-convert {\n",
              "      background-color: #3B4455;\n",
              "      fill: #D2E3FC;\n",
              "    }\n",
              "\n",
              "    [theme=dark] .colab-df-convert:hover {\n",
              "      background-color: #434B5C;\n",
              "      box-shadow: 0px 1px 3px 1px rgba(0, 0, 0, 0.15);\n",
              "      filter: drop-shadow(0px 1px 2px rgba(0, 0, 0, 0.3));\n",
              "      fill: #FFFFFF;\n",
              "    }\n",
              "  </style>\n",
              "\n",
              "    <script>\n",
              "      const buttonEl =\n",
              "        document.querySelector('#df-b076ad1a-b942-40a1-8502-92acaf6dc9c1 button.colab-df-convert');\n",
              "      buttonEl.style.display =\n",
              "        google.colab.kernel.accessAllowed ? 'block' : 'none';\n",
              "\n",
              "      async function convertToInteractive(key) {\n",
              "        const element = document.querySelector('#df-b076ad1a-b942-40a1-8502-92acaf6dc9c1');\n",
              "        const dataTable =\n",
              "          await google.colab.kernel.invokeFunction('convertToInteractive',\n",
              "                                                    [key], {});\n",
              "        if (!dataTable) return;\n",
              "\n",
              "        const docLinkHtml = 'Like what you see? Visit the ' +\n",
              "          '<a target=\"_blank\" href=https://colab.research.google.com/notebooks/data_table.ipynb>data table notebook</a>'\n",
              "          + ' to learn more about interactive tables.';\n",
              "        element.innerHTML = '';\n",
              "        dataTable['output_type'] = 'display_data';\n",
              "        await google.colab.output.renderOutput(dataTable, element);\n",
              "        const docLink = document.createElement('div');\n",
              "        docLink.innerHTML = docLinkHtml;\n",
              "        element.appendChild(docLink);\n",
              "      }\n",
              "    </script>\n",
              "  </div>\n",
              "\n",
              "\n",
              "<div id=\"df-e2c9d543-ffec-4546-a650-a288acc88110\">\n",
              "  <button class=\"colab-df-quickchart\" onclick=\"quickchart('df-e2c9d543-ffec-4546-a650-a288acc88110')\"\n",
              "            title=\"Suggest charts.\"\n",
              "            style=\"display:none;\">\n",
              "\n",
              "<svg xmlns=\"http://www.w3.org/2000/svg\" height=\"24px\"viewBox=\"0 0 24 24\"\n",
              "     width=\"24px\">\n",
              "    <g>\n",
              "        <path d=\"M19 3H5c-1.1 0-2 .9-2 2v14c0 1.1.9 2 2 2h14c1.1 0 2-.9 2-2V5c0-1.1-.9-2-2-2zM9 17H7v-7h2v7zm4 0h-2V7h2v10zm4 0h-2v-4h2v4z\"/>\n",
              "    </g>\n",
              "</svg>\n",
              "  </button>\n",
              "\n",
              "<style>\n",
              "  .colab-df-quickchart {\n",
              "      --bg-color: #E8F0FE;\n",
              "      --fill-color: #1967D2;\n",
              "      --hover-bg-color: #E2EBFA;\n",
              "      --hover-fill-color: #174EA6;\n",
              "      --disabled-fill-color: #AAA;\n",
              "      --disabled-bg-color: #DDD;\n",
              "  }\n",
              "\n",
              "  [theme=dark] .colab-df-quickchart {\n",
              "      --bg-color: #3B4455;\n",
              "      --fill-color: #D2E3FC;\n",
              "      --hover-bg-color: #434B5C;\n",
              "      --hover-fill-color: #FFFFFF;\n",
              "      --disabled-bg-color: #3B4455;\n",
              "      --disabled-fill-color: #666;\n",
              "  }\n",
              "\n",
              "  .colab-df-quickchart {\n",
              "    background-color: var(--bg-color);\n",
              "    border: none;\n",
              "    border-radius: 50%;\n",
              "    cursor: pointer;\n",
              "    display: none;\n",
              "    fill: var(--fill-color);\n",
              "    height: 32px;\n",
              "    padding: 0;\n",
              "    width: 32px;\n",
              "  }\n",
              "\n",
              "  .colab-df-quickchart:hover {\n",
              "    background-color: var(--hover-bg-color);\n",
              "    box-shadow: 0 1px 2px rgba(60, 64, 67, 0.3), 0 1px 3px 1px rgba(60, 64, 67, 0.15);\n",
              "    fill: var(--button-hover-fill-color);\n",
              "  }\n",
              "\n",
              "  .colab-df-quickchart-complete:disabled,\n",
              "  .colab-df-quickchart-complete:disabled:hover {\n",
              "    background-color: var(--disabled-bg-color);\n",
              "    fill: var(--disabled-fill-color);\n",
              "    box-shadow: none;\n",
              "  }\n",
              "\n",
              "  .colab-df-spinner {\n",
              "    border: 2px solid var(--fill-color);\n",
              "    border-color: transparent;\n",
              "    border-bottom-color: var(--fill-color);\n",
              "    animation:\n",
              "      spin 1s steps(1) infinite;\n",
              "  }\n",
              "\n",
              "  @keyframes spin {\n",
              "    0% {\n",
              "      border-color: transparent;\n",
              "      border-bottom-color: var(--fill-color);\n",
              "      border-left-color: var(--fill-color);\n",
              "    }\n",
              "    20% {\n",
              "      border-color: transparent;\n",
              "      border-left-color: var(--fill-color);\n",
              "      border-top-color: var(--fill-color);\n",
              "    }\n",
              "    30% {\n",
              "      border-color: transparent;\n",
              "      border-left-color: var(--fill-color);\n",
              "      border-top-color: var(--fill-color);\n",
              "      border-right-color: var(--fill-color);\n",
              "    }\n",
              "    40% {\n",
              "      border-color: transparent;\n",
              "      border-right-color: var(--fill-color);\n",
              "      border-top-color: var(--fill-color);\n",
              "    }\n",
              "    60% {\n",
              "      border-color: transparent;\n",
              "      border-right-color: var(--fill-color);\n",
              "    }\n",
              "    80% {\n",
              "      border-color: transparent;\n",
              "      border-right-color: var(--fill-color);\n",
              "      border-bottom-color: var(--fill-color);\n",
              "    }\n",
              "    90% {\n",
              "      border-color: transparent;\n",
              "      border-bottom-color: var(--fill-color);\n",
              "    }\n",
              "  }\n",
              "</style>\n",
              "\n",
              "  <script>\n",
              "    async function quickchart(key) {\n",
              "      const quickchartButtonEl =\n",
              "        document.querySelector('#' + key + ' button');\n",
              "      quickchartButtonEl.disabled = true;  // To prevent multiple clicks.\n",
              "      quickchartButtonEl.classList.add('colab-df-spinner');\n",
              "      try {\n",
              "        const charts = await google.colab.kernel.invokeFunction(\n",
              "            'suggestCharts', [key], {});\n",
              "      } catch (error) {\n",
              "        console.error('Error during call to suggestCharts:', error);\n",
              "      }\n",
              "      quickchartButtonEl.classList.remove('colab-df-spinner');\n",
              "      quickchartButtonEl.classList.add('colab-df-quickchart-complete');\n",
              "    }\n",
              "    (() => {\n",
              "      let quickchartButtonEl =\n",
              "        document.querySelector('#df-e2c9d543-ffec-4546-a650-a288acc88110 button');\n",
              "      quickchartButtonEl.style.display =\n",
              "        google.colab.kernel.accessAllowed ? 'block' : 'none';\n",
              "    })();\n",
              "  </script>\n",
              "</div>\n",
              "    </div>\n",
              "  </div>\n"
            ]
          },
          "metadata": {},
          "execution_count": 45
        }
      ]
    },
    {
      "cell_type": "code",
      "source": [
        "# Sorting unique values in the Ship Mode column into new series\n",
        "\n",
        "type_of_shipping = df['Ship Mode'].unique()\n",
        "print(type_of_shipping)"
      ],
      "metadata": {
        "colab": {
          "base_uri": "https://localhost:8080/"
        },
        "id": "SZ1bNaOlQiTF",
        "outputId": "91293f81-6490-40bf-fc0c-2722a856f1d3"
      },
      "execution_count": null,
      "outputs": [
        {
          "output_type": "stream",
          "name": "stdout",
          "text": [
            "['Second Class' 'Standard Class' 'First Class' 'Same Day']\n"
          ]
        }
      ]
    },
    {
      "cell_type": "code",
      "source": [
        "# Frequency use of shipping methods\n",
        "\n",
        "shipping_mode = df['Ship Mode'].value_counts().reset_index()\n",
        "shipping_mode = shipping_mode.rename(columns={'index':'Mode of Shipment', 'Ship Mode':'Use Frequency'})\n",
        "\n",
        "print(shipping_mode)"
      ],
      "metadata": {
        "colab": {
          "base_uri": "https://localhost:8080/"
        },
        "id": "QJGVNaDAQiQY",
        "outputId": "8ba63551-8230-4596-b914-aac59b634e39"
      },
      "execution_count": null,
      "outputs": [
        {
          "output_type": "stream",
          "name": "stdout",
          "text": [
            "  Mode of Shipment  Use Frequency\n",
            "0   Standard Class           5859\n",
            "1     Second Class           1902\n",
            "2      First Class           1501\n",
            "3         Same Day            538\n"
          ]
        }
      ]
    },
    {
      "cell_type": "code",
      "source": [
        "# Plotting a Pie chart3\n",
        "\n",
        "plt.pie(shipping_mode['Use Frequency'], labels=shipping_mode['Mode of Shipment'], autopct='%1.1f%%')\n",
        "\n",
        "# Set Pie chart3 Lables\n",
        "\n",
        "plt.title('Popular Shipping Methods')\n",
        "plt.show()"
      ],
      "metadata": {
        "colab": {
          "base_uri": "https://localhost:8080/",
          "height": 428
        },
        "id": "ut-sdASXQiOI",
        "outputId": "ce00f432-edd2-4fe2-d119-f2bd18e0bad5"
      },
      "execution_count": null,
      "outputs": [
        {
          "output_type": "display_data",
          "data": {
            "text/plain": [
              "<Figure size 640x480 with 1 Axes>"
            ],
            "image/png": "[encoded data removed]"
          },
          "metadata": {}
        }
      ]
    },
    {
      "cell_type": "markdown",
      "source": [
        "### Geographical Analysis of Customers and Sales\n"
      ],
      "metadata": {
        "id": "6bTnkPrOnBrG"
      }
    },
    {
      "cell_type": "code",
      "source": [
        "# Customer by State\n",
        "\n",
        "state = df['State'].value_counts().reset_index()\n",
        "state = state.rename(columns={'index':'State', 'State':'Number of Customers'})\n",
        "\n",
        "print(state.head(10))"
      ],
      "metadata": {
        "colab": {
          "base_uri": "https://localhost:8080/"
        },
        "id": "8fXaL_ebQiMG",
        "outputId": "d84b7d37-5323-4f75-eaa5-b76bfa0b49e4"
      },
      "execution_count": null,
      "outputs": [
        {
          "output_type": "stream",
          "name": "stdout",
          "text": [
            "            State  Number of Customers\n",
            "0      California                 1946\n",
            "1        New York                 1097\n",
            "2           Texas                  973\n",
            "3    Pennsylvania                  582\n",
            "4      Washington                  504\n",
            "5        Illinois                  483\n",
            "6            Ohio                  454\n",
            "7         Florida                  373\n",
            "8        Michigan                  253\n",
            "9  North Carolina                  247\n"
          ]
        }
      ]
    },
    {
      "cell_type": "code",
      "source": [
        "# Customer by City\n",
        "\n",
        "city = df['City'].value_counts().reset_index()\n",
        "city = city.rename(columns={'index':'City', 'City':'Number of Customers'})\n",
        "\n",
        "print(city.head(10))"
      ],
      "metadata": {
        "colab": {
          "base_uri": "https://localhost:8080/"
        },
        "id": "bAZklPCCQiIx",
        "outputId": "26b622f9-7fd5-49d6-98ba-275bc857536b"
      },
      "execution_count": null,
      "outputs": [
        {
          "output_type": "stream",
          "name": "stdout",
          "text": [
            "            City  Number of Customers\n",
            "0  New York City                  891\n",
            "1    Los Angeles                  728\n",
            "2   Philadelphia                  532\n",
            "3  San Francisco                  500\n",
            "4        Seattle                  426\n",
            "5        Houston                  374\n",
            "6        Chicago                  308\n",
            "7       Columbus                  221\n",
            "8      San Diego                  170\n",
            "9    Springfield                  161\n"
          ]
        }
      ]
    },
    {
      "cell_type": "code",
      "source": [
        "# Sales per State\n",
        "\n",
        "state_sales = df.groupby(['State'])['Sales'].sum().reset_index()\n",
        "\n",
        "# Sorting from highest State Sales\n",
        "\n",
        "top_state_sales = state_sales.sort_values(by='Sales', ascending=False)\n",
        "\n",
        "print(top_state_sales.head(10).reset_index(drop=True))"
      ],
      "metadata": {
        "colab": {
          "base_uri": "https://localhost:8080/"
        },
        "id": "J0Q2C4jsQiE6",
        "outputId": "feccf3a1-5021-43d2-af84-29f66d055ad7"
      },
      "execution_count": null,
      "outputs": [
        {
          "output_type": "stream",
          "name": "stdout",
          "text": [
            "          State        Sales\n",
            "0    California  446306.4635\n",
            "1      New York  306361.1470\n",
            "2         Texas  168572.5322\n",
            "3    Washington  135206.8500\n",
            "4  Pennsylvania  116276.6500\n",
            "5       Florida   88436.5320\n",
            "6      Illinois   79236.5170\n",
            "7      Michigan   76136.0740\n",
            "8          Ohio   75130.3500\n",
            "9      Virginia   70636.7200\n"
          ]
        }
      ]
    },
    {
      "cell_type": "code",
      "source": [
        "# Sales per City\n",
        "\n",
        "city_sales = df.groupby(['City'])['Sales'].sum().reset_index()\n",
        "\n",
        "# Sorting from highest City Sales\n",
        "\n",
        "top_city_sales = city_sales.sort_values(by='Sales', ascending=False)\n",
        "\n",
        "print(top_city_sales.head(10).reset_index(drop=True))"
      ],
      "metadata": {
        "colab": {
          "base_uri": "https://localhost:8080/"
        },
        "id": "XNsMGUIpQh9j",
        "outputId": "9ee1120a-7f97-47ca-e6ae-286a2b8d48f2"
      },
      "execution_count": null,
      "outputs": [
        {
          "output_type": "stream",
          "name": "stdout",
          "text": [
            "            City        Sales\n",
            "0  New York City  252462.5470\n",
            "1    Los Angeles  173420.1810\n",
            "2        Seattle  116106.3220\n",
            "3  San Francisco  109041.1200\n",
            "4   Philadelphia  108841.7490\n",
            "5        Houston   63956.1428\n",
            "6        Chicago   47820.1330\n",
            "7      San Diego   47521.0290\n",
            "8   Jacksonville   44713.1830\n",
            "9        Detroit   42446.9440\n"
          ]
        }
      ]
    },
    {
      "cell_type": "markdown",
      "source": [
        "### Product Category Segmentation"
      ],
      "metadata": {
        "id": "oOgT4GcJpx6T"
      }
    },
    {
      "cell_type": "code",
      "source": [
        "# Types of Category\n",
        "\n",
        "products_category = df['Category'].unique()\n",
        "print(products_category)"
      ],
      "metadata": {
        "colab": {
          "base_uri": "https://localhost:8080/"
        },
        "id": "BXHKpLJZpWri",
        "outputId": "d2296973-e090-4afb-a44b-d1f875d62a8c"
      },
      "execution_count": null,
      "outputs": [
        {
          "output_type": "stream",
          "name": "stdout",
          "text": [
            "['Furniture' 'Office Supplies' 'Technology']\n"
          ]
        }
      ]
    },
    {
      "cell_type": "code",
      "source": [
        "# Group product category\n",
        "\n",
        "subcategory_count = df.groupby(['Category'])['Sub-Category'].nunique().reset_index()\n",
        "\n",
        "subcategory_count = subcategory_count.sort_values(by='Sub-Category', ascending=False)\n",
        "\n",
        "print(subcategory_count.reset_index(drop=True))"
      ],
      "metadata": {
        "colab": {
          "base_uri": "https://localhost:8080/"
        },
        "id": "nXNKXMrJpWmt",
        "outputId": "22e2f739-536a-4856-9c52-9b4a2147958d"
      },
      "execution_count": null,
      "outputs": [
        {
          "output_type": "stream",
          "name": "stdout",
          "text": [
            "          Category  Sub-Category\n",
            "0  Office Supplies             9\n",
            "1        Furniture             4\n",
            "2       Technology             4\n"
          ]
        }
      ]
    },
    {
      "cell_type": "code",
      "source": [
        "# Sales per Product Category\n",
        "\n",
        "category_sales = df.groupby('Category')['Sales'].sum().reset_index()\n",
        "category_sales = category_sales.sort_values(by='Sales', ascending=False)\n",
        "print(category_sales)"
      ],
      "metadata": {
        "colab": {
          "base_uri": "https://localhost:8080/"
        },
        "id": "E73jV1yrpWkS",
        "outputId": "26171aba-b5a0-4acf-c366-f9e54324b5da"
      },
      "execution_count": null,
      "outputs": [
        {
          "output_type": "stream",
          "name": "stdout",
          "text": [
            "          Category        Sales\n",
            "2       Technology  827455.8730\n",
            "0        Furniture  728658.5757\n",
            "1  Office Supplies  705422.3340\n"
          ]
        }
      ]
    },
    {
      "cell_type": "code",
      "source": [
        "# Plotting a Pie chart4\n",
        "\n",
        "plt.pie(category_sales['Sales'], labels=category_sales['Category'], autopct='%1.1f%%')\n",
        "\n",
        "# Set Pie chart4 Lables\n",
        "\n",
        "plt.title('Sales based on each Category')\n",
        "plt.show()"
      ],
      "metadata": {
        "id": "C5RPc1WdpWh8",
        "colab": {
          "base_uri": "https://localhost:8080/",
          "height": 428
        },
        "outputId": "9e1ce5d1-8331-45e5-8806-4ffd550ec8e4"
      },
      "execution_count": 69,
      "outputs": [
        {
          "output_type": "display_data",
          "data": {
            "text/plain": [
              "<Figure size 640x480 with 1 Axes>"
            ],
            "image/png": "[encoded data removed]"
          },
          "metadata": {}
        }
      ]
    },
    {
      "cell_type": "code",
      "source": [
        "# Sales per Subcategory\n",
        "\n",
        "subcategory_sales = df.groupby('Sub-Category')['Sales'].sum().reset_index()\n",
        "subcategory_sales = subcategory_sales.sort_values(by='Sales', ascending=False)\n",
        "print(subcategory_sales.reset_index(drop=True))"
      ],
      "metadata": {
        "id": "cDkVVwV5pWfk",
        "colab": {
          "base_uri": "https://localhost:8080/"
        },
        "outputId": "dd11debc-cb2a-4842-8c43-ee9e5826d82a"
      },
      "execution_count": 71,
      "outputs": [
        {
          "output_type": "stream",
          "name": "stdout",
          "text": [
            "   Sub-Category        Sales\n",
            "0        Phones  327782.4480\n",
            "1        Chairs  322822.7310\n",
            "2       Storage  219343.3920\n",
            "3        Tables  202810.6280\n",
            "4       Binders  200028.7850\n",
            "5      Machines  189238.6310\n",
            "6   Accessories  164186.7000\n",
            "7       Copiers  146248.0940\n",
            "8     Bookcases  113813.1987\n",
            "9    Appliances  104618.4030\n",
            "10  Furnishings   89212.0180\n",
            "11        Paper   76828.3040\n",
            "12     Supplies   46420.3080\n",
            "13          Art   26705.4100\n",
            "14    Envelopes   16128.0460\n",
            "15       Labels   12347.7260\n",
            "16    Fasteners    3001.9600\n"
          ]
        }
      ]
    },
    {
      "cell_type": "code",
      "source": [
        "# Plotting the bar graph\n",
        "\n",
        "subcategory_sales = subcategory_sales.sort_values(by='Sales', ascending=True )\n",
        "\n",
        "plt.barh(subcategory_sales['Sub-Category'], subcategory_sales['Sales'])\n",
        "\n",
        "plt.title('Top Product Sub-Category based on Sales')\n",
        "plt.ylabel('Product Sub-Category')\n",
        "plt.xlabel('Total Sales')\n",
        "\n",
        "plt.show()"
      ],
      "metadata": {
        "id": "Guwn24AcpWdH",
        "colab": {
          "base_uri": "https://localhost:8080/",
          "height": 472
        },
        "outputId": "9bcfdb78-1174-46b5-a33c-146d5f7a0738"
      },
      "execution_count": 74,
      "outputs": [
        {
          "output_type": "display_data",
          "data": {
            "text/plain": [
              "<Figure size 640x480 with 1 Axes>"
            ],
            "image/png": "[encoded data removed]"
          },
          "metadata": {}
        }
      ]
    },
    {
      "cell_type": "code",
      "source": [
        "# Conver Order Date column into datetime format\n",
        "\n",
        "df['Order Date'] = pd.to_datetime(df['Order Date'], dayfirst=True)\n",
        "\n",
        "# Grouping by year and Summing the sales per Year\n",
        "\n",
        "yearly_sales = df.groupby(df['Order Date'].dt.year)['Sales'].sum()\n",
        "\n",
        "# Setting new index and renaming the columns\n",
        "\n",
        "yearly_sales = yearly_sales.reset_index()\n",
        "yearly_sales = yearly_sales.rename(columns={'Order Date':'Year', 'Sales':'Total Sales'})\n",
        "\n",
        "print(yearly_sales)"
      ],
      "metadata": {
        "id": "V45_00rbpWat",
        "colab": {
          "base_uri": "https://localhost:8080/"
        },
        "outputId": "361789fd-7fbb-4644-c1f7-50e0da7d8e37"
      },
      "execution_count": 75,
      "outputs": [
        {
          "output_type": "stream",
          "name": "stdout",
          "text": [
            "   Year  Total Sales\n",
            "0  2015  479856.2081\n",
            "1  2016  459436.0054\n",
            "2  2017  600192.5500\n",
            "3  2018  722052.0192\n"
          ]
        }
      ]
    },
    {
      "cell_type": "code",
      "source": [
        "# Plotting the bar graph2\n",
        "\n",
        "plt.bar(yearly_sales['Year'], yearly_sales['Total Sales'])\n",
        "\n",
        "plt.title('Yearly Sales')\n",
        "plt.xlabel('Year')\n",
        "plt.ylabel('Total Sales')\n",
        "\n",
        "plt.xticks(rotation=65)\n",
        "\n",
        "plt.show()"
      ],
      "metadata": {
        "id": "i6J4gQXwpWYG",
        "colab": {
          "base_uri": "https://localhost:8080/",
          "height": 507
        },
        "outputId": "7e6852df-c4af-466a-b8ca-540247f0e137"
      },
      "execution_count": 79,
      "outputs": [
        {
          "output_type": "display_data",
          "data": {
            "text/plain": [
              "<Figure size 640x480 with 1 Axes>"
            ],
            "image/png": "[encoded data removed]"
          },
          "metadata": {}
        }
      ]
    },
    {
      "cell_type": "code",
      "source": [
        "# Plotting the line graph (alternative)\n",
        "\n",
        "plt.plot(yearly_sales['Year'], yearly_sales['Total Sales'], marker='o', linestyle='dashed')\n",
        "\n",
        "plt.title('Yearly Sales')\n",
        "plt.xlabel('Year')\n",
        "plt.ylabel('Total Sales')\n",
        "\n",
        "plt.xticks(rotation=65)\n",
        "\n",
        "plt.show()"
      ],
      "metadata": {
        "id": "VFoflJlApWVp",
        "colab": {
          "base_uri": "https://localhost:8080/",
          "height": 507
        },
        "outputId": "c2e2535e-24b5-4d71-9ed9-1cbc098c521d"
      },
      "execution_count": 82,
      "outputs": [
        {
          "output_type": "display_data",
          "data": {
            "text/plain": [
              "<Figure size 640x480 with 1 Axes>"
            ],
            "image/png": "[encoded data removed]"
          },
          "metadata": {}
        }
      ]
    },
    {
      "cell_type": "code",
      "source": [
        "# Quaterly Sales Trend\n",
        "\n",
        "df['Order Date'] = pd.to_datetime(df['Order Date'], dayfirst=True)\n",
        "\n",
        "# Filter the 2018 year\n",
        "year_2018_sales = df[df['Order Date'].dt.year == 2018]\n",
        "\n",
        "quarterly_sales = year_2018_sales.resample('Q', on='Order Date')['Sales'].sum()\n",
        "quarterly_sales = quarterly_sales.reset_index()\n",
        "quarterly_sales = quarterly_sales.rename(columns={'Order Date':'Quarter', 'Sales':'Total Sales'})\n",
        "\n",
        "print('This are the Quarterly Sales for 2018')\n",
        "print(quarterly_sales)"
      ],
      "metadata": {
        "id": "ID5DQLptpWR8",
        "colab": {
          "base_uri": "https://localhost:8080/"
        },
        "outputId": "9ca93a75-3a77-45d4-b922-6bd9520e5ea8"
      },
      "execution_count": 92,
      "outputs": [
        {
          "output_type": "stream",
          "name": "stdout",
          "text": [
            "This are the Quarterly Sales for 2018\n",
            "     Quarter  Total Sales\n",
            "0 2018-03-31  122260.8842\n",
            "1 2018-06-30  127558.6200\n",
            "2 2018-09-30  193815.8400\n",
            "3 2018-12-31  278416.6750\n"
          ]
        }
      ]
    },
    {
      "cell_type": "code",
      "source": [
        "# Plotting the Quarter line graph2\n",
        "\n",
        "plt.plot(quarterly_sales['Quarter'], quarterly_sales['Total Sales'], marker='o', linestyle='dashed')\n",
        "\n",
        "plt.title('Quarterly Sales')\n",
        "plt.xlabel('Quarters')\n",
        "plt.ylabel('Total Sales')\n",
        "\n",
        "plt.xticks(rotation=65)\n",
        "\n",
        "plt.show()"
      ],
      "metadata": {
        "id": "Xa_xGC8kHxmq",
        "colab": {
          "base_uri": "https://localhost:8080/",
          "height": 516
        },
        "outputId": "a329697d-3de6-4b36-f5c1-fe7d5d7d333b"
      },
      "execution_count": 93,
      "outputs": [
        {
          "output_type": "display_data",
          "data": {
            "text/plain": [
              "<Figure size 640x480 with 1 Axes>"
            ],
            "image/png": "[encoded data removed]"
          },
          "metadata": {}
        }
      ]
    },
    {
      "cell_type": "markdown",
      "source": [],
      "metadata": {
        "id": "UWy8gN-T5Rl2"
      }
    },
    {
      "cell_type": "code",
      "source": [
        "# Monthly Sales Trend\n",
        "\n",
        "df['Order Date'] = pd.to_datetime(df['Order Date'], dayfirst=True)\n",
        "\n",
        "# Filter data according to year\n",
        "year_2018_sales = df[df['Order Date'].dt.year == 2018]\n",
        "\n",
        "# Calculate monthly sale for year 2018\n",
        "\n",
        "monthly_sales = year_2018_sales.resample('M', on='Order Date')['Sales'].sum()\n",
        "\n",
        "# Rename columns\n",
        "monthly_sales = monthly_sales.reset_index()\n",
        "monthly_sales = monthly_sales.rename(columns={'Order Date':'Month', 'Sales':'Total Monthly Sales'})\n",
        "\n",
        "print('This are the Monthly Sales for 2018')\n",
        "print(monthly_sales)"
      ],
      "metadata": {
        "colab": {
          "base_uri": "https://localhost:8080/"
        },
        "id": "X-onKHbS5RfS",
        "outputId": "3f354877-3729-4d26-a3b2-2d9032a8869e"
      },
      "execution_count": 97,
      "outputs": [
        {
          "output_type": "stream",
          "name": "stdout",
          "text": [
            "This are the Monthly Sales for 2018\n",
            "        Month  Total Monthly Sales\n",
            "0  2018-01-31           43476.4740\n",
            "1  2018-02-28           19920.9974\n",
            "2  2018-03-31           58863.4128\n",
            "3  2018-04-30           35541.9101\n",
            "4  2018-05-31           43825.9822\n",
            "5  2018-06-30           48190.7277\n",
            "6  2018-07-31           44825.1040\n",
            "7  2018-08-31           62837.8480\n",
            "8  2018-09-30           86152.8880\n",
            "9  2018-10-31           77448.1312\n",
            "10 2018-11-30          117938.1550\n",
            "11 2018-12-31           83030.3888\n"
          ]
        }
      ]
    },
    {
      "cell_type": "code",
      "source": [
        "# Plotting the Monthly line graph2\n",
        "\n",
        "plt.plot(monthly_sales['Month'], monthly_sales['Total Monthly Sales'], marker='o', linestyle='dashed')\n",
        "\n",
        "plt.title('Monthly Sales')\n",
        "plt.xlabel('Months')\n",
        "plt.ylabel('Total Sales')\n",
        "\n",
        "plt.xticks(rotation=65)\n",
        "\n",
        "plt.show()"
      ],
      "metadata": {
        "colab": {
          "base_uri": "https://localhost:8080/",
          "height": 516
        },
        "id": "1Olk4pNJ5Rc3",
        "outputId": "9c29b509-3de0-42eb-c52e-6ee6cfd96650"
      },
      "execution_count": 100,
      "outputs": [
        {
          "output_type": "display_data",
          "data": {
            "text/plain": [
              "<Figure size 640x480 with 1 Axes>"
            ],
            "image/png": "[encoded data removed]"
          },
          "metadata": {}
        }
      ]
    },
    {
      "cell_type": "code",
      "source": [],
      "metadata": {
        "id": "weArS5xp5RaA"
      },
      "execution_count": null,
      "outputs": []
    },
    {
      "cell_type": "code",
      "source": [],
      "metadata": {
        "id": "0DGnQM8z5RXu"
      },
      "execution_count": null,
      "outputs": []
    },
    {
      "cell_type": "code",
      "source": [],
      "metadata": {
        "id": "WBuKAwG-5RT9"
      },
      "execution_count": null,
      "outputs": []
    },
    {
      "cell_type": "code",
      "source": [],
      "metadata": {
        "id": "4vZw-oEg5ROd"
      },
      "execution_count": null,
      "outputs": []
    },
    {
      "cell_type": "code",
      "source": [],
      "metadata": {
        "id": "-yjMTcIOBbby"
      },
      "execution_count": null,
      "outputs": []
    }
  ]
}